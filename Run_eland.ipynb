{
 "cells": [
  {
   "cell_type": "markdown",
   "metadata": {},
   "source": [
    "# Running \"ELAND\"\n",
    "This notebook runs what is currently the very bare bones of ELAND"
   ]
  },
  {
   "cell_type": "code",
   "execution_count": 1,
   "metadata": {},
   "outputs": [],
   "source": [
    "# import libraries & scripts\n",
    "import os\n",
    "import pandas as pd\n",
    "import numpy as np\n",
    "import bihidef\n",
    "from netZooPy import sambar\n",
    "from goatools import obo_parser\n",
    "from goatools.go_enrichment import GOEnrichmentStudy\n",
    "from pybiomart import Dataset\n",
    "import eland\n",
    "import matplotlib.pyplot as plt\n",
    "import seaborn as sns\n",
    "from eland import filter_panda, process_panda \n",
    "\n",
    "#set working directory\n",
    "os.chdir(\"results\")"
   ]
  },
  {
   "cell_type": "code",
   "execution_count": 5,
   "metadata": {},
   "outputs": [],
   "source": [
    "# set some params\n",
    "#breast\n",
    "#panda_file = \"gtex_breast_panda.txt\"\n",
    "#panda_edgelist = \"gtex_breast_edgelist.txt\"\n",
    "#prior_file = \"motif_prior_names_2024_filtered.txt\"\n",
    "#edgelist_fil = \"gtex_breast_edgelist_filtered.csv\"\n",
    "#edgelist_fil = \"brca_fil_edges.csv\"\n",
    "#edgelist_top = \"gtex_subset_first_half.csv\"\n",
    "#edgelist_end = \"gtex_subset_end.csv\"\n",
    "#edgelist_end2 = \"gtex_subset_end2.csv\"\n",
    "\n",
    "# uterus\n",
    "panda_file = \"gtex_uterus_panda.txt\"\n",
    "panda_edgelist = \"gtex_uterus_edgelist.txt\"\n",
    "prior_file = \"../data/motif_prior_ids_2024.tsv\"\n",
    "edgelist_fil = \"gtex_uterus_edgelist_filtered.csv\""
   ]
  },
  {
   "cell_type": "code",
   "execution_count": 6,
   "metadata": {},
   "outputs": [],
   "source": [
    "# filter network\n",
    "process_panda.process_edge_list(panda_file, panda_edgelist, sep=\",\")\n",
    "fil_edges = filter_panda.filter_panda(prior_file=prior_file ,panda_file=panda_edgelist)\n",
    "fil_edges.to_csv(edgelist_fil, index=False, header=False)"
   ]
  },
  {
   "cell_type": "code",
   "execution_count": 7,
   "metadata": {},
   "outputs": [
    {
     "name": "stdout",
     "output_type": "stream",
     "text": [
      "Computing community structure for 200 resolution points\n",
      "hello\n",
      "                V1                   V2   weight\n",
      "0        reg_TGIF1  tar_ENSG00000266964  5.84970\n",
      "1        reg_TGIF1  tar_ENSG00000185008  4.34060\n",
      "2        reg_TGIF1  tar_ENSG00000156976  4.74840\n",
      "3        reg_TGIF1  tar_ENSG00000110651  4.65260\n",
      "4        reg_TGIF1  tar_ENSG00000204574  4.90310\n",
      "...            ...                  ...      ...\n",
      "1125702   reg_CTCF  tar_ENSG00000243179  6.66170\n",
      "1125703   reg_CTCF  tar_ENSG00000256813  0.03658\n",
      "1125704   reg_CTCF  tar_ENSG00000114554  0.33726\n",
      "1125705   reg_CTCF  tar_ENSG00000235655  6.59020\n",
      "1125706   reg_CTCF  tar_ENSG00000189419  6.08220\n",
      "\n",
      "[1125707 rows x 3 columns]\n"
     ]
    },
    {
     "name": "stderr",
     "output_type": "stream",
     "text": [
      "/div/pythagoras/u3/romanatp/.conda/envs/eland/lib/python3.10/site-packages/netZooPy/condor/condor.py:308: FutureWarning: Series.__getitem__ treating keys as positions is deprecated. In a future version, integer keys will always be treated as labels (consistent with DataFrame behavior). To access a value by position, use `ser.iloc[pos]`\n",
      "  A[gn[edge[1][1]], rg[edge[1][0]]] = edge[1][2]\n",
      "/div/pythagoras/u3/romanatp/.conda/envs/eland/lib/python3.10/site-packages/netZooPy/condor/condor.py:308: FutureWarning: Series.__getitem__ treating keys as positions is deprecated. In a future version, integer keys will always be treated as labels (consistent with DataFrame behavior). To access a value by position, use `ser.iloc[pos]`\n",
      "  A[gn[edge[1][1]], rg[edge[1][0]]] = edge[1][2]\n",
      "/div/pythagoras/u3/romanatp/.conda/envs/eland/lib/python3.10/site-packages/netZooPy/condor/condor.py:308: FutureWarning: Series.__getitem__ treating keys as positions is deprecated. In a future version, integer keys will always be treated as labels (consistent with DataFrame behavior). To access a value by position, use `ser.iloc[pos]`\n",
      "  A[gn[edge[1][1]], rg[edge[1][0]]] = edge[1][2]\n",
      "/div/pythagoras/u3/romanatp/.conda/envs/eland/lib/python3.10/site-packages/netZooPy/condor/condor.py:308: FutureWarning: Series.__getitem__ treating keys as positions is deprecated. In a future version, integer keys will always be treated as labels (consistent with DataFrame behavior). To access a value by position, use `ser.iloc[pos]`\n",
      "  A[gn[edge[1][1]], rg[edge[1][0]]] = edge[1][2]\n",
      "/div/pythagoras/u3/romanatp/.conda/envs/eland/lib/python3.10/site-packages/netZooPy/condor/condor.py:308: FutureWarning: Series.__getitem__ treating keys as positions is deprecated. In a future version, integer keys will always be treated as labels (consistent with DataFrame behavior). To access a value by position, use `ser.iloc[pos]`\n",
      "  A[gn[edge[1][1]], rg[edge[1][0]]] = edge[1][2]\n",
      "/div/pythagoras/u3/romanatp/.conda/envs/eland/lib/python3.10/site-packages/netZooPy/condor/condor.py:308: FutureWarning: Series.__getitem__ treating keys as positions is deprecated. In a future version, integer keys will always be treated as labels (consistent with DataFrame behavior). To access a value by position, use `ser.iloc[pos]`\n",
      "  A[gn[edge[1][1]], rg[edge[1][0]]] = edge[1][2]\n",
      "/div/pythagoras/u3/romanatp/.conda/envs/eland/lib/python3.10/site-packages/netZooPy/condor/condor.py:308: FutureWarning: Series.__getitem__ treating keys as positions is deprecated. In a future version, integer keys will always be treated as labels (consistent with DataFrame behavior). To access a value by position, use `ser.iloc[pos]`\n",
      "  A[gn[edge[1][1]], rg[edge[1][0]]] = edge[1][2]\n",
      "/div/pythagoras/u3/romanatp/.conda/envs/eland/lib/python3.10/site-packages/netZooPy/condor/condor.py:308: FutureWarning: Series.__getitem__ treating keys as positions is deprecated. In a future version, integer keys will always be treated as labels (consistent with DataFrame behavior). To access a value by position, use `ser.iloc[pos]`\n",
      "  A[gn[edge[1][1]], rg[edge[1][0]]] = edge[1][2]\n",
      "/div/pythagoras/u3/romanatp/.conda/envs/eland/lib/python3.10/site-packages/netZooPy/condor/condor.py:308: FutureWarning: Series.__getitem__ treating keys as positions is deprecated. In a future version, integer keys will always be treated as labels (consistent with DataFrame behavior). To access a value by position, use `ser.iloc[pos]`\n",
      "  A[gn[edge[1][1]], rg[edge[1][0]]] = edge[1][2]\n",
      "/div/pythagoras/u3/romanatp/.conda/envs/eland/lib/python3.10/site-packages/netZooPy/condor/condor.py:308: FutureWarning: Series.__getitem__ treating keys as positions is deprecated. In a future version, integer keys will always be treated as labels (consistent with DataFrame behavior). To access a value by position, use `ser.iloc[pos]`\n",
      "  A[gn[edge[1][1]], rg[edge[1][0]]] = edge[1][2]\n",
      "/div/pythagoras/u3/romanatp/.conda/envs/eland/lib/python3.10/site-packages/netZooPy/condor/condor.py:308: FutureWarning: Series.__getitem__ treating keys as positions is deprecated. In a future version, integer keys will always be treated as labels (consistent with DataFrame behavior). To access a value by position, use `ser.iloc[pos]`\n",
      "  A[gn[edge[1][1]], rg[edge[1][0]]] = edge[1][2]\n"
     ]
    },
    {
     "name": "stdout",
     "output_type": "stream",
     "text": [
      "Resolution: 5 NComs: 215 Modularity: 0.12162880779367899\n",
      "Resolution: 0.0244 NComs: 1 Modularity: 0.9755999999999992\n",
      "Resolution: 0.0143 NComs: 1 Modularity: 0.9856999999999992\n",
      "Resolution: 2.9362 NComs: 118 Modularity: 0.15247705703485692\n",
      "Resolution: 0.0187 NComs: 1 Modularity: 0.9812999999999991\n",
      "Resolution: 0.2675 NComs: 1 Modularity: 0.7324999999999998\n",
      "Resolution: 3.8316 NComs: 163 Modularity: 0.1353575681456629\n",
      "Resolution: 0.0125 NComs: 1 Modularity: 0.9874999999999996\n",
      "Resolution: 0.1795 NComs: 1 Modularity: 0.8204999999999993\n",
      "Resolution: 0.0474 NComs: 1 Modularity: 0.9525999999999991\n",
      "Resolution: 0.205 NComs: 1 Modularity: 0.7949999999999997\n",
      "Resolution: 0.0707 NComs: 1 Modularity: 0.9292999999999995\n",
      "Resolution: 0.0415 NComs: 1 Modularity: 0.9584999999999996\n",
      "Resolution: 0.0022 NComs: 1 Modularity: 0.9977999999999996\n",
      "Resolution: 0.0318 NComs: 1 Modularity: 0.9681999999999997\n",
      "Resolution: 0.4556 NComs: 1 Modularity: 0.5443999999999999\n",
      "Resolution: 0.0043 NComs: 1 Modularity: 0.9956999999999999\n",
      "Resolution: 0.0164 NComs: 1 Modularity: 0.9835999999999994\n",
      "Resolution: 0.2342 NComs: 1 Modularity: 0.7657999999999997\n",
      "Resolution: 0.0619 NComs: 1 Modularity: 0.9380999999999996\n",
      "Resolution: 0.0084 NComs: 1 Modularity: 0.9915999999999995\n",
      "Resolution: 1.7242 NComs: 45 Modularity: 0.1952695658931421\n",
      "Resolution: 0.1204 NComs: 1 Modularity: 0.8795999999999997\n",
      "Resolution: 0.0038 NComs: 1 Modularity: 0.9961999999999994\n",
      "Resolution: 0.0542 NComs: 1 Modularity: 0.9457999999999991\n",
      "Resolution: 0.7759 NComs: 5 Modularity: 0.3826156053431454\n",
      "Resolution: 0.0056 NComs: 1 Modularity: 0.9943999999999994\n",
      "Resolution: 0.0214 NComs: 1 Modularity: 0.9785999999999998\n",
      "Resolution: 0.3056 NComs: 1 Modularity: 0.6943999999999998\n",
      "Resolution: 0.0808 NComs: 1 Modularity: 0.9191999999999998\n",
      "Resolution: 0.0017 NComs: 1 Modularity: 0.9982999999999994\n",
      "Resolution: 0.5946 NComs: 3 Modularity: 0.4718866370484398\n",
      "Resolution: 0.3491 NComs: 1 Modularity: 0.6508999999999997\n",
      "Resolution: 0.0923 NComs: 1 Modularity: 0.9076999999999994\n",
      "Resolution: 0.0064 NComs: 1 Modularity: 0.9936000000000003\n",
      "Resolution: 1.3213 NComs: 23 Modularity: 0.23222305628385165\n",
      "Resolution: 0.0073 NComs: 1 Modularity: 0.9926999999999996\n",
      "Resolution: 0.0279 NComs: 1 Modularity: 0.9720999999999994\n",
      "Resolution: 0.1054 NComs: 1 Modularity: 0.8945999999999994\n",
      "Resolution: 0.3988 NComs: 1 Modularity: 0.6012\n",
      "Resolution: 0.0049 NComs: 1 Modularity: 0.9950999999999991\n",
      "Resolution: 0.0029 NComs: 1 Modularity: 0.9970999999999999\n"
     ]
    },
    {
     "name": "stderr",
     "output_type": "stream",
     "text": [
      "/div/pythagoras/u3/romanatp/.conda/envs/eland/lib/python3.10/site-packages/netZooPy/condor/condor.py:308: FutureWarning: Series.__getitem__ treating keys as positions is deprecated. In a future version, integer keys will always be treated as labels (consistent with DataFrame behavior). To access a value by position, use `ser.iloc[pos]`\n",
      "  A[gn[edge[1][1]], rg[edge[1][0]]] = edge[1][2]\n"
     ]
    },
    {
     "name": "stdout",
     "output_type": "stream",
     "text": [
      "Resolution: 0.1571 NComs: 1 Modularity: 0.8428999999999995\n",
      "Resolution: 2.25 NComs: 79 Modularity: 0.16888086517272144\n"
     ]
    },
    {
     "name": "stderr",
     "output_type": "stream",
     "text": [
      "/div/pythagoras/u3/romanatp/.conda/envs/eland/lib/python3.10/site-packages/netZooPy/condor/condor.py:308: FutureWarning: Series.__getitem__ treating keys as positions is deprecated. In a future version, integer keys will always be treated as labels (consistent with DataFrame behavior). To access a value by position, use `ser.iloc[pos]`\n",
      "  A[gn[edge[1][1]], rg[edge[1][0]]] = edge[1][2]\n"
     ]
    },
    {
     "name": "stdout",
     "output_type": "stream",
     "text": [
      "Resolution: 0.0096 NComs: 1 Modularity: 0.9903999999999996\n",
      "Resolution: 0.011 NComs: 1 Modularity: 0.9889999999999993\n",
      "Resolution: 1.0125 NComs: 10 Modularity: 0.2957551173445296\n"
     ]
    },
    {
     "name": "stderr",
     "output_type": "stream",
     "text": [
      "/div/pythagoras/u3/romanatp/.conda/envs/eland/lib/python3.10/site-packages/netZooPy/condor/condor.py:308: FutureWarning: Series.__getitem__ treating keys as positions is deprecated. In a future version, integer keys will always be treated as labels (consistent with DataFrame behavior). To access a value by position, use `ser.iloc[pos]`\n",
      "  A[gn[edge[1][1]], rg[edge[1][0]]] = edge[1][2]\n",
      "/div/pythagoras/u3/romanatp/.conda/envs/eland/lib/python3.10/site-packages/netZooPy/condor/condor.py:308: FutureWarning: Series.__getitem__ treating keys as positions is deprecated. In a future version, integer keys will always be treated as labels (consistent with DataFrame behavior). To access a value by position, use `ser.iloc[pos]`\n",
      "  A[gn[edge[1][1]], rg[edge[1][0]]] = edge[1][2]\n",
      "/div/pythagoras/u3/romanatp/.conda/envs/eland/lib/python3.10/site-packages/netZooPy/condor/condor.py:308: FutureWarning: Series.__getitem__ treating keys as positions is deprecated. In a future version, integer keys will always be treated as labels (consistent with DataFrame behavior). To access a value by position, use `ser.iloc[pos]`\n",
      "  A[gn[edge[1][1]], rg[edge[1][0]]] = edge[1][2]\n"
     ]
    },
    {
     "name": "stdout",
     "output_type": "stream",
     "text": [
      "\n",
      "Resolution: 0.0363 NComs: 1 Modularity: 0.9636999999999997"
     ]
    },
    {
     "name": "stderr",
     "output_type": "stream",
     "text": [
      "/div/pythagoras/u3/romanatp/.conda/envs/eland/lib/python3.10/site-packages/netZooPy/condor/condor.py:308: FutureWarning: Series.__getitem__ treating keys as positions is deprecated. In a future version, integer keys will always be treated as labels (consistent with DataFrame behavior). To access a value by position, use `ser.iloc[pos]`\n",
      "  A[gn[edge[1][1]], rg[edge[1][0]]] = edge[1][2]\n",
      "/div/pythagoras/u3/romanatp/.conda/envs/eland/lib/python3.10/site-packages/netZooPy/condor/condor.py:308: FutureWarning: Series.__getitem__ treating keys as positions is deprecated. In a future version, integer keys will always be treated as labels (consistent with DataFrame behavior). To access a value by position, use `ser.iloc[pos]`\n",
      "  A[gn[edge[1][1]], rg[edge[1][0]]] = edge[1][2]\n"
     ]
    },
    {
     "name": "stdout",
     "output_type": "stream",
     "text": [
      "Resolution: 0.1375 NComs: 1 Modularity: 0.8624999999999996\n"
     ]
    },
    {
     "name": "stderr",
     "output_type": "stream",
     "text": [
      "/div/pythagoras/u3/romanatp/.conda/envs/eland/lib/python3.10/site-packages/netZooPy/condor/condor.py:308: FutureWarning: Series.__getitem__ treating keys as positions is deprecated. In a future version, integer keys will always be treated as labels (consistent with DataFrame behavior). To access a value by position, use `ser.iloc[pos]`\n",
      "  A[gn[edge[1][1]], rg[edge[1][0]]] = edge[1][2]\n"
     ]
    },
    {
     "name": "stdout",
     "output_type": "stream",
     "text": [
      "Resolution: 0.5205 NComs: 2 Modularity: 0.5094087418328408\n"
     ]
    },
    {
     "name": "stderr",
     "output_type": "stream",
     "text": [
      "/div/pythagoras/u3/romanatp/.conda/envs/eland/lib/python3.10/site-packages/netZooPy/condor/condor.py:308: FutureWarning: Series.__getitem__ treating keys as positions is deprecated. In a future version, integer keys will always be treated as labels (consistent with DataFrame behavior). To access a value by position, use `ser.iloc[pos]`\n",
      "  A[gn[edge[1][1]], rg[edge[1][0]]] = edge[1][2]\n",
      "/div/pythagoras/u3/romanatp/.conda/envs/eland/lib/python3.10/site-packages/netZooPy/condor/condor.py:308: FutureWarning: Series.__getitem__ treating keys as positions is deprecated. In a future version, integer keys will always be treated as labels (consistent with DataFrame behavior). To access a value by position, use `ser.iloc[pos]`\n",
      "  A[gn[edge[1][1]], rg[edge[1][0]]] = edge[1][2]\n"
     ]
    },
    {
     "name": "stdout",
     "output_type": "stream",
     "text": [
      "Resolution: 0.6792 NComs: 2 Modularity: 0.42962451358425113\n",
      "Resolution: 0.02 NComs: 1 Modularity: 0.9799999999999991\n",
      "Resolution: 0.0103 NComs: 1 Modularity: 0.9896999999999997\n",
      "Resolution: 2.5703 NComs: 101 Modularity: 0.16095888107139292\n",
      "Resolution: 0.0388 NComs: 1 Modularity: 0.9611999999999998\n",
      "Resolution: 0.0756 NComs: 1 Modularity: 0.9243999999999993\n",
      "Resolution: 0.147 NComs: 1 Modularity: 0.852999999999999\n",
      "Resolution: 0.2859 NComs: 1 Modularity: 0.7140999999999996\n",
      "Resolution: 0.5563 NComs: 2 Modularity: 0.49152431613582975\n",
      "Resolution: 1.0822 NComs: 13 Modularity: 0.27850565897627017\n",
      "Resolution: 0.8863 NComs: 7 Modularity: 0.3365685160603092\n",
      "Resolution: 0.0229 NComs: 1 Modularity: 0.9770999999999991\n",
      "Resolution: 0.0444 NComs: 1 Modularity: 0.9555999999999994\n",
      "Resolution: 0.0117 NComs: 1 Modularity: 0.9882999999999996\n",
      "Resolution: 3.3542 NComs: 139 Modularity: 0.1442556654589414\n",
      "Resolution: 0.0864 NComs: 1 Modularity: 0.9135999999999997\n",
      "Resolution: 0.1679 NComs: 1 Modularity: 0.8320999999999993\n",
      "Resolution: 0.3266 NComs: 1 Modularity: 0.6733999999999997\n",
      "Resolution: 1.2362 NComs: 21 Modularity: 0.24717728250761514\n",
      "Resolution: 0.6355 NComs: 3 Modularity: 0.45176970036813996\n",
      "Resolution: 0.0261 NComs: 1 Modularity: 0.9738999999999997\n",
      "Resolution: 1.1566 NComs: 15 Modularity: 0.2612680335679203\n",
      "Resolution: 0.0507 NComs: 1 Modularity: 0.9492999999999991\n",
      "Resolution: 0.0134 NComs: 1 Modularity: 0.9865999999999996\n",
      "Resolution: 0.1918 NComs: 1 Modularity: 0.8081999999999997\n",
      "Resolution: 4.377 NComs: 195 Modularity: 0.1281704116601387\n",
      "Resolution: 0.0986 NComs: 1 Modularity: 0.9013999999999991\n",
      "Resolution: 0.3731 NComs: 1 Modularity: 0.6268999999999998\n",
      "Resolution: 1.4122 NComs: 29 Modularity: 0.2208741054989293\n",
      "Resolution: 0.7259 NComs: 3 Modularity: 0.406490401985951\n",
      "Resolution: 0.0298 NComs: 1 Modularity: 0.9701999999999997\n",
      "Resolution: 0.0579 NComs: 1 Modularity: 0.9420999999999992\n",
      "Resolution: 1.5094 NComs: 38 Modularity: 0.21105015173183342\n",
      "Resolution: 0.0153 NComs: 1 Modularity: 0.9846999999999996\n",
      "Resolution: 0.0078 NComs: 1 Modularity: 0.9921999999999993\n",
      "Resolution: 0.2191 NComs: 1 Modularity: 0.7808999999999994\n",
      "Resolution: 0.1127 NComs: 1 Modularity: 0.8872999999999992\n",
      "Resolution: 1.6132 NComs: 41 Modularity: 0.20235348557136074\n",
      "Resolution: 0.4263 NComs: 1 Modularity: 0.5736999999999998\n",
      "Resolution: 0.8293 NComs: 7 Modularity: 0.35603380541959784\n",
      "Resolution: 0.034 NComs: 1 Modularity: 0.9660000000000003\n",
      "Resolution: 0.0662 NComs: 1 Modularity: 0.9337999999999992\n"
     ]
    },
    {
     "name": "stderr",
     "output_type": "stream",
     "text": [
      "/div/pythagoras/u3/romanatp/.conda/envs/eland/lib/python3.10/site-packages/netZooPy/condor/condor.py:308: FutureWarning: Series.__getitem__ treating keys as positions is deprecated. In a future version, integer keys will always be treated as labels (consistent with DataFrame behavior). To access a value by position, use `ser.iloc[pos]`\n",
      "  A[gn[edge[1][1]], rg[edge[1][0]]] = edge[1][2]\n"
     ]
    },
    {
     "name": "stdout",
     "output_type": "stream",
     "text": [
      "Resolution: 0.0175 NComs: 1 Modularity: 0.9824999999999994\n",
      "Resolution: 1.9696 NComs: 58 Modularity: 0.18221134850327717\n"
     ]
    },
    {
     "name": "stderr",
     "output_type": "stream",
     "text": [
      "/div/pythagoras/u3/romanatp/.conda/envs/eland/lib/python3.10/site-packages/netZooPy/condor/condor.py:308: FutureWarning: Series.__getitem__ treating keys as positions is deprecated. In a future version, integer keys will always be treated as labels (consistent with DataFrame behavior). To access a value by position, use `ser.iloc[pos]`\n",
      "  A[gn[edge[1][1]], rg[edge[1][0]]] = edge[1][2]\n",
      "/div/pythagoras/u3/romanatp/.conda/envs/eland/lib/python3.10/site-packages/netZooPy/condor/condor.py:308: FutureWarning: Series.__getitem__ treating keys as positions is deprecated. In a future version, integer keys will always be treated as labels (consistent with DataFrame behavior). To access a value by position, use `ser.iloc[pos]`\n",
      "  A[gn[edge[1][1]], rg[edge[1][0]]] = edge[1][2]\n"
     ]
    },
    {
     "name": "stdout",
     "output_type": "stream",
     "text": [
      "Resolution: 0.009 NComs: 1 Modularity: 0.9909999999999993\n",
      "Resolution: 0.2503 NComs: 1 Modularity: 0.7496999999999996\n"
     ]
    },
    {
     "name": "stderr",
     "output_type": "stream",
     "text": [
      "/div/pythagoras/u3/romanatp/.conda/envs/eland/lib/python3.10/site-packages/netZooPy/condor/condor.py:308: FutureWarning: Series.__getitem__ treating keys as positions is deprecated. In a future version, integer keys will always be treated as labels (consistent with DataFrame behavior). To access a value by position, use `ser.iloc[pos]`\n",
      "  A[gn[edge[1][1]], rg[edge[1][0]]] = edge[1][2]\n",
      "/div/pythagoras/u3/romanatp/.conda/envs/eland/lib/python3.10/site-packages/netZooPy/condor/condor.py:308: FutureWarning: Series.__getitem__ treating keys as positions is deprecated. In a future version, integer keys will always be treated as labels (consistent with DataFrame behavior). To access a value by position, use `ser.iloc[pos]`\n",
      "  A[gn[edge[1][1]], rg[edge[1][0]]] = edge[1][2]\n",
      "/div/pythagoras/u3/romanatp/.conda/envs/eland/lib/python3.10/site-packages/netZooPy/condor/condor.py:308: FutureWarning: Series.__getitem__ treating keys as positions is deprecated. In a future version, integer keys will always be treated as labels (consistent with DataFrame behavior). To access a value by position, use `ser.iloc[pos]`\n",
      "  A[gn[edge[1][1]], rg[edge[1][0]]] = edge[1][2]\n"
     ]
    },
    {
     "name": "stdout",
     "output_type": "stream",
     "text": [
      "Resolution: 0.1287 NComs: 1 Modularity: 0.8712999999999993\n",
      "Resolution: 1.8428 NComs: 55 Modularity: 0.18811227305850425\n"
     ]
    },
    {
     "name": "stderr",
     "output_type": "stream",
     "text": [
      "/div/pythagoras/u3/romanatp/.conda/envs/eland/lib/python3.10/site-packages/netZooPy/condor/condor.py:308: FutureWarning: Series.__getitem__ treating keys as positions is deprecated. In a future version, integer keys will always be treated as labels (consistent with DataFrame behavior). To access a value by position, use `ser.iloc[pos]`\n",
      "  A[gn[edge[1][1]], rg[edge[1][0]]] = edge[1][2]\n",
      "/div/pythagoras/u3/romanatp/.conda/envs/eland/lib/python3.10/site-packages/netZooPy/condor/condor.py:308: FutureWarning: Series.__getitem__ treating keys as positions is deprecated. In a future version, integer keys will always be treated as labels (consistent with DataFrame behavior). To access a value by position, use `ser.iloc[pos]`\n",
      "  A[gn[edge[1][1]], rg[edge[1][0]]] = edge[1][2]\n"
     ]
    },
    {
     "name": "stdout",
     "output_type": "stream",
     "text": [
      "Resolution: 0.487 NComs: 2 Modularity: 0.5264541574893523\n"
     ]
    },
    {
     "name": "stderr",
     "output_type": "stream",
     "text": [
      "/div/pythagoras/u3/romanatp/.conda/envs/eland/lib/python3.10/site-packages/netZooPy/condor/condor.py:308: FutureWarning: Series.__getitem__ treating keys as positions is deprecated. In a future version, integer keys will always be treated as labels (consistent with DataFrame behavior). To access a value by position, use `ser.iloc[pos]`\n",
      "  A[gn[edge[1][1]], rg[edge[1][0]]] = edge[1][2]\n"
     ]
    },
    {
     "name": "stdout",
     "output_type": "stream",
     "text": [
      "Resolution: 0.9473 NComs: 10 Modularity: 0.3154750256057965\n"
     ]
    },
    {
     "name": "stderr",
     "output_type": "stream",
     "text": [
      "/div/pythagoras/u3/romanatp/.conda/envs/eland/lib/python3.10/site-packages/netZooPy/condor/condor.py:308: FutureWarning: Series.__getitem__ treating keys as positions is deprecated. In a future version, integer keys will always be treated as labels (consistent with DataFrame behavior). To access a value by position, use `ser.iloc[pos]`\n",
      "  A[gn[edge[1][1]], rg[edge[1][0]]] = edge[1][2]\n"
     ]
    },
    {
     "name": "stdout",
     "output_type": "stream",
     "text": [
      "Resolution: 2.1051 NComs: 69 Modularity: 0.17559907352559967\n",
      "Resolution: 4.0952 NComs: 176 Modularity: 0.13237059801093637\n",
      "Resolution: 0.0193 NComs: 1 Modularity: 0.9806999999999989\n",
      "Resolution: 0.027 NComs: 1 Modularity: 0.9729999999999998\n",
      "Resolution: 0.0375 NComs: 1 Modularity: 0.9624999999999997\n",
      "Resolution: 0.0524 NComs: 1 Modularity: 0.9475999999999996\n",
      "Resolution: 0.0731 NComs: 1 Modularity: 0.9268999999999998\n",
      "Resolution: 0.1019 NComs: 1 Modularity: 0.8980999999999991\n",
      "Resolution: 0.1422 NComs: 1 Modularity: 0.8577999999999996\n",
      "Resolution: 0.1983 NComs: 1 Modularity: 0.8016999999999996\n",
      "Resolution: 2.4048 NComs: 93 Modularity: 0.16518735611947932\n",
      "Resolution: 4.6781 NComs: 205 Modularity: 0.12515300771199772\n",
      "Resolution: 0.0207 NComs: 1 Modularity: 0.9792999999999994\n",
      "Resolution: 0.0288 NComs: 1 Modularity: 0.9711999999999995\n",
      "Resolution: 0.0401 NComs: 1 Modularity: 0.9598999999999995\n",
      "Resolution: 0.056 NComs: 1 Modularity: 0.9439999999999995\n",
      "Resolution: 0.0782 NComs: 1 Modularity: 0.9217999999999994\n",
      "Resolution: 0.109 NComs: 1 Modularity: 0.8909999999999998\n",
      "Resolution: 0.152 NComs: 1 Modularity: 0.8479999999999995\n",
      "Resolution: 0.2119 NComs: 1 Modularity: 0.7880999999999994\n",
      "Resolution: 2.7472 NComs: 108 Modularity: 0.15559988980123013\n",
      "Resolution: 0.0158 NComs: 1 Modularity: 0.9841999999999995\n",
      "Resolution: 0.0221 NComs: 1 Modularity: 0.9778999999999991\n",
      "Resolution: 0.0308 NComs: 1 Modularity: 0.9691999999999996\n",
      "Resolution: 0.0429 NComs: 1 Modularity: 0.9570999999999996\n",
      "Resolution: 0.0599 NComs: 1 Modularity: 0.9400999999999995\n",
      "Resolution: 0.0836 NComs: 1 Modularity: 0.9163999999999998\n",
      "Resolution: 0.1165 NComs: 1 Modularity: 0.8834999999999996\n",
      "Resolution: 0.2265 NComs: 1 Modularity: 0.7734999999999992\n",
      "Resolution: 0.1624 NComs: 1 Modularity: 0.8375999999999996\n",
      "Resolution: 3.1382 NComs: 129 Modularity: 0.14881008652017694\n",
      "Resolution: 0.0169 NComs: 1 Modularity: 0.9830999999999993\n",
      "Resolution: 0.0236 NComs: 1 Modularity: 0.9763999999999987\n",
      "Resolution: 0.0329 NComs: 1 Modularity: 0.967099999999999\n",
      "Resolution: 0.0459 NComs: 1 Modularity: 0.9540999999999993\n",
      "Resolution: 0.064 NComs: 1 Modularity: 0.9359999999999997\n",
      "Resolution: 0.0893 NComs: 1 Modularity: 0.9106999999999996\n",
      "Resolution: 0.1245 NComs: 1 Modularity: 0.8754999999999993\n",
      "Resolution: 0.2421 NComs: 1 Modularity: 0.7578999999999999\n",
      "Resolution: 0.1736 NComs: 1 Modularity: 0.8263999999999998\n",
      "Resolution: 0.0181 NComs: 1 Modularity: 0.9818999999999998\n",
      "Resolution: 3.585 NComs: 155 Modularity: 0.13978091009104904\n"
     ]
    },
    {
     "name": "stderr",
     "output_type": "stream",
     "text": [
      "/div/pythagoras/u3/romanatp/.conda/envs/eland/lib/python3.10/site-packages/netZooPy/condor/condor.py:308: FutureWarning: Series.__getitem__ treating keys as positions is deprecated. In a future version, integer keys will always be treated as labels (consistent with DataFrame behavior). To access a value by position, use `ser.iloc[pos]`\n",
      "  A[gn[edge[1][1]], rg[edge[1][0]]] = edge[1][2]\n"
     ]
    },
    {
     "name": "stdout",
     "output_type": "stream",
     "text": [
      "Resolution: 0.0252 NComs: 1 Modularity: 0.9747999999999993\n",
      "Resolution: 0.0351 NComs: 1 Modularity: 0.9648999999999991\n"
     ]
    },
    {
     "name": "stderr",
     "output_type": "stream",
     "text": [
      "/div/pythagoras/u3/romanatp/.conda/envs/eland/lib/python3.10/site-packages/netZooPy/condor/condor.py:308: FutureWarning: Series.__getitem__ treating keys as positions is deprecated. In a future version, integer keys will always be treated as labels (consistent with DataFrame behavior). To access a value by position, use `ser.iloc[pos]`\n",
      "  A[gn[edge[1][1]], rg[edge[1][0]]] = edge[1][2]\n"
     ]
    },
    {
     "name": "stdout",
     "output_type": "stream",
     "text": [
      "Resolution: 0.0684 NComs: 1 Modularity: 0.9315999999999997\n"
     ]
    },
    {
     "name": "stderr",
     "output_type": "stream",
     "text": [
      "/div/pythagoras/u3/romanatp/.conda/envs/eland/lib/python3.10/site-packages/netZooPy/condor/condor.py:308: FutureWarning: Series.__getitem__ treating keys as positions is deprecated. In a future version, integer keys will always be treated as labels (consistent with DataFrame behavior). To access a value by position, use `ser.iloc[pos]`\n",
      "  A[gn[edge[1][1]], rg[edge[1][0]]] = edge[1][2]\n",
      "/div/pythagoras/u3/romanatp/.conda/envs/eland/lib/python3.10/site-packages/netZooPy/condor/condor.py:308: FutureWarning: Series.__getitem__ treating keys as positions is deprecated. In a future version, integer keys will always be treated as labels (consistent with DataFrame behavior). To access a value by position, use `ser.iloc[pos]`\n",
      "  A[gn[edge[1][1]], rg[edge[1][0]]] = edge[1][2]\n"
     ]
    },
    {
     "name": "stdout",
     "output_type": "stream",
     "text": [
      "Resolution: 0.049 NComs: 1 Modularity: 0.9509999999999995\n"
     ]
    },
    {
     "name": "stderr",
     "output_type": "stream",
     "text": [
      "/div/pythagoras/u3/romanatp/.conda/envs/eland/lib/python3.10/site-packages/netZooPy/condor/condor.py:308: FutureWarning: Series.__getitem__ treating keys as positions is deprecated. In a future version, integer keys will always be treated as labels (consistent with DataFrame behavior). To access a value by position, use `ser.iloc[pos]`\n",
      "  A[gn[edge[1][1]], rg[edge[1][0]]] = edge[1][2]\n",
      "/div/pythagoras/u3/romanatp/.conda/envs/eland/lib/python3.10/site-packages/netZooPy/condor/condor.py:308: FutureWarning: Series.__getitem__ treating keys as positions is deprecated. In a future version, integer keys will always be treated as labels (consistent with DataFrame behavior). To access a value by position, use `ser.iloc[pos]`\n",
      "  A[gn[edge[1][1]], rg[edge[1][0]]] = edge[1][2]\n"
     ]
    },
    {
     "name": "stdout",
     "output_type": "stream",
     "text": [
      "Resolution: 0.0954 NComs: 1 Modularity: 0.9045999999999993\n"
     ]
    },
    {
     "name": "stderr",
     "output_type": "stream",
     "text": [
      "/div/pythagoras/u3/romanatp/.conda/envs/eland/lib/python3.10/site-packages/netZooPy/condor/condor.py:308: FutureWarning: Series.__getitem__ treating keys as positions is deprecated. In a future version, integer keys will always be treated as labels (consistent with DataFrame behavior). To access a value by position, use `ser.iloc[pos]`\n",
      "  A[gn[edge[1][1]], rg[edge[1][0]]] = edge[1][2]\n"
     ]
    },
    {
     "name": "stdout",
     "output_type": "stream",
     "text": [
      "Resolution: 0.133 NComs: 1 Modularity: 0.8669999999999999\n",
      "Resolution: 0.2588 NComs: 1 Modularity: 0.7411999999999995\n"
     ]
    },
    {
     "name": "stderr",
     "output_type": "stream",
     "text": [
      "/div/pythagoras/u3/romanatp/.conda/envs/eland/lib/python3.10/site-packages/netZooPy/condor/condor.py:308: FutureWarning: Series.__getitem__ treating keys as positions is deprecated. In a future version, integer keys will always be treated as labels (consistent with DataFrame behavior). To access a value by position, use `ser.iloc[pos]`\n",
      "  A[gn[edge[1][1]], rg[edge[1][0]]] = edge[1][2]\n",
      "/div/pythagoras/u3/romanatp/.conda/envs/eland/lib/python3.10/site-packages/netZooPy/condor/condor.py:308: FutureWarning: Series.__getitem__ treating keys as positions is deprecated. In a future version, integer keys will always be treated as labels (consistent with DataFrame behavior). To access a value by position, use `ser.iloc[pos]`\n",
      "  A[gn[edge[1][1]], rg[edge[1][0]]] = edge[1][2]\n"
     ]
    },
    {
     "name": "stdout",
     "output_type": "stream",
     "text": [
      "Resolution: 0.1855 NComs: 1 Modularity: 0.8144999999999998\n"
     ]
    },
    {
     "name": "stderr",
     "output_type": "stream",
     "text": [
      "/div/pythagoras/u3/romanatp/.conda/envs/eland/lib/python3.10/site-packages/netZooPy/condor/condor.py:308: FutureWarning: Series.__getitem__ treating keys as positions is deprecated. In a future version, integer keys will always be treated as labels (consistent with DataFrame behavior). To access a value by position, use `ser.iloc[pos]`\n",
      "  A[gn[edge[1][1]], rg[edge[1][0]]] = edge[1][2]\n"
     ]
    },
    {
     "name": "stdout",
     "output_type": "stream",
     "text": [
      "Resolution: 0.2765 NComs: 1 Modularity: 0.7234999999999998\n",
      "Resolution: 0.3857 NComs: 1 Modularity: 0.6142999999999998\n",
      "Resolution: 0.5381 NComs: 2 Modularity: 0.5005304435441562\n",
      "Resolution: 0.7505 NComs: 4 Modularity: 0.39443694587075406\n",
      "Resolution: 1.0468 NComs: 12 Modularity: 0.28795294179999054\n",
      "Resolution: 1.46 NComs: 33 Modularity: 0.2135741010925285\n",
      "Resolution: 2.0362 NComs: 66 Modularity: 0.17913335636467118\n",
      "Resolution: 2.8401 NComs: 112 Modularity: 0.15456259837049088\n",
      "Resolution: 3.9612 NComs: 166 Modularity: 0.13412674066044863\n",
      "Resolution: 4.4504 NComs: 196 Modularity: 0.12750607102417877\n",
      "Resolution: 0.2956 NComs: 1 Modularity: 0.7044000000000002\n",
      "Resolution: 0.4123 NComs: 1 Modularity: 0.5877\n",
      "Resolution: 0.5751 NComs: 2 Modularity: 0.4817509812534807\n",
      "Resolution: 0.8022 NComs: 6 Modularity: 0.3711700118162372\n",
      "Resolution: 1.1188 NComs: 17 Modularity: 0.2676216078767584\n",
      "Resolution: 1.5604 NComs: 40 Modularity: 0.20494575954458574\n",
      "Resolution: 2.1763 NComs: 75 Modularity: 0.1731045123300163\n",
      "Resolution: 3.0355 NComs: 121 Modularity: 0.15051143550795995\n",
      "Resolution: 4.2338 NComs: 187 Modularity: 0.13068415665635652\n",
      "Resolution: 4.6009 NComs: 202 Modularity: 0.12594263035653688\n",
      "Resolution: 0.3159 NComs: 1 Modularity: 0.6840999999999999\n",
      "Resolution: 0.4407 NComs: 1 Modularity: 0.5592999999999997\n",
      "Resolution: 0.6147 NComs: 3 Modularity: 0.46222947248287305\n",
      "Resolution: 0.8573 NComs: 8 Modularity: 0.3477386249237237\n",
      "Resolution: 1.1957 NComs: 20 Modularity: 0.2528418257204189\n",
      "Resolution: 1.6678 NComs: 46 Modularity: 0.1982108190483837\n",
      "Resolution: 2.3261 NComs: 88 Modularity: 0.1666713382963513\n",
      "Resolution: 3.2444 NComs: 138 Modularity: 0.1457811862625519\n",
      "Resolution: 4.525 NComs: 198 Modularity: 0.12690464722004252\n",
      "Resolution: 4.7566 NComs: 206 Modularity: 0.12433487473481383\n",
      "Resolution: 0.3377 NComs: 1 Modularity: 0.6622999999999998\n",
      "Resolution: 0.471 NComs: 2 Modularity: 0.5338641138287257\n",
      "Resolution: 0.657 NComs: 2 Modularity: 0.44072703418259107\n",
      "Resolution: 0.9163 NComs: 8 Modularity: 0.3257086919418297\n",
      "Resolution: 1.278 NComs: 23 Modularity: 0.23781372159183115\n",
      "Resolution: 1.7825 NComs: 51 Modularity: 0.1918581493757823\n",
      "Resolution: 2.4862 NComs: 99 Modularity: 0.1635461135821368\n",
      "Resolution: 3.4677 NComs: 144 Modularity: 0.14252090832785827\n",
      "Resolution: 4.8364 NComs: 209 Modularity: 0.12346434637537702\n",
      "Resolution: 4.9175 NComs: 206 Modularity: 0.12284939842824269\n",
      "Resolution: 0.3609 NComs: 1 Modularity: 0.6391000000000001\n",
      "Resolution: 0.5035 NComs: 2 Modularity: 0.518143980906711\n",
      "Resolution: 0.7022 NComs: 3 Modularity: 0.41815673187827246\n",
      "Resolution: 0.9794 NComs: 10 Modularity: 0.3062846827790231\n",
      "Resolution: 1.366 NComs: 28 Modularity: 0.2231771805154039\n",
      "Resolution: 1.9051 NComs: 57 Modularity: 0.18532927750716938\n",
      "Resolution: 3.7062 NComs: 152 Modularity: 0.1380544134521229\n",
      "Resolution: 2.6573 NComs: 103 Modularity: 0.15919519395170723\n",
      "Resolution: 4.3048 NComs: 186 Modularity: 0.12976446111690831\n"
     ]
    },
    {
     "name": "stderr",
     "output_type": "stream",
     "text": [
      "@> initializing the graph...\n",
      "@> graph initialized in 0.32s\n",
      "@> \"merge\" parameter set to true, so merging redundant clusters...\n",
      "@> Merge 28 redundant groups ...\n",
      "@> redundant nodes removed in 0.01s\n",
      "@> removing redundant edges...\n",
      "@> redundant edges removed in 0.00s\n",
      "@> attaching terminal nodes to the graph...\n",
      "@> terminal nodes attached in 36.55s\n",
      "@> propagate terminal node assignments upward in the hierarchy\n",
      "@> terminal nodes propagated in 2.77s\n",
      "@> finding secondary edges...\n",
      "@> secondary edges found in 0.20s\n",
      "@> initializing the graph...\n",
      "@> graph initialized in 0.12s\n",
      "@> \"merge\" parameter set to true, so merging redundant clusters...\n",
      "@> Merge 44 redundant groups ...\n",
      "@> redundant nodes removed in 0.01s\n",
      "@> removing redundant edges...\n",
      "@> redundant edges removed in 0.01s\n",
      "@> attaching terminal nodes to the graph...\n",
      "@> terminal nodes attached in 0.06s\n",
      "@> propagate terminal node assignments upward in the hierarchy\n",
      "@> terminal nodes propagated in 0.72s\n",
      "@> finding secondary edges...\n",
      "@> secondary edges found in 0.00s\n"
     ]
    }
   ],
   "source": [
    "# run bihidef\n",
    "# this will save a bunch of files in the working directory\n",
    "bihidef.bihidef(edgelist_fil, maxres=5)"
   ]
  },
  {
   "cell_type": "code",
   "execution_count": 8,
   "metadata": {},
   "outputs": [],
   "source": [
    "# get communities\n",
    "sign = pd.read_csv(\"pvg.nodes\", delimiter = \"\\t\")\n",
    "\n",
    "# Extract clusters\n",
    "clusters = sign.iloc[:, 0].astype(str)\n",
    "clusters = clusters.str[7:]  # removing the first 7 characters\n",
    "clusters = np.array([list(map(int, c.split('-'))) for c in clusters])"
   ]
  },
  {
   "cell_type": "code",
   "execution_count": 9,
   "metadata": {},
   "outputs": [
    {
     "name": "stderr",
     "output_type": "stream",
     "text": [
      "/storage/kuijjerarea/romana/eland/ELAND/eland/process_bihidef.py:14: FutureWarning: Series.__getitem__ treating keys as positions is deprecated. In a future version, integer keys will always be treated as labels (consistent with DataFrame behavior). To access a value by position, use `ser.iloc[pos]`\n",
      "  gene_set_name = row[0]\n",
      "/storage/kuijjerarea/romana/eland/ELAND/eland/process_bihidef.py:16: FutureWarning: Series.__getitem__ treating keys as positions is deprecated. In a future version, integer keys will always be treated as labels (consistent with DataFrame behavior). To access a value by position, use `ser.iloc[pos]`\n",
      "  genes_column = row[2]\n",
      "/storage/kuijjerarea/romana/eland/ELAND/eland/process_bihidef.py:26: FutureWarning: Series.__getitem__ treating keys as positions is deprecated. In a future version, integer keys will always be treated as labels (consistent with DataFrame behavior). To access a value by position, use `ser.iloc[pos]`\n",
      "  gene_set_description = str(row[1]) + \" genes\"\n"
     ]
    }
   ],
   "source": [
    "# select clusters with sizes between selected range\n",
    "# set range\n",
    "min_size = 10\n",
    "max_size = 200\n",
    "\n",
    "fil_clust = sign[(sign.iloc[:,1] >= min_size) & (sign.iloc[:,1] <= max_size)]\n",
    "\n",
    "#write to gmt\n",
    "eland.gmt_from_bihidef(fil_clust, \"fil_comm_uterus.gmt\")"
   ]
  },
  {
   "cell_type": "code",
   "execution_count": null,
   "metadata": {},
   "outputs": [],
   "source": [
    "#run sambar with bihidef communities\n",
    "sambar.sambar(mut_file=\"../data/BRCAmutMatrixFinal.csv\",\n",
    "                            esize_file=\"../data/esizef.csv\",\n",
    "                            genes_file=\"../data/genes.txt\",\n",
    "                            gmtfile=\"fil_comm.gmt\")"
   ]
  },
  {
   "cell_type": "code",
   "execution_count": null,
   "metadata": {},
   "outputs": [],
   "source": [
    "# run sambar with pathways\n",
    "sambar.sambar(mut_file=\"../data/BRCAmutMatrixFinal.csv\",\n",
    "                            esize_file=\"../data/esizef.csv\",\n",
    "                            genes_file=\"../data/genes.txt\",\n",
    "                            gmtfile=\"../data/c2.cp.v2024.1.Hs.symbols.gmt\")"
   ]
  },
  {
   "cell_type": "markdown",
   "metadata": {},
   "source": [
    "# Go enrichment for selected communities"
   ]
  },
  {
   "cell_type": "code",
   "execution_count": null,
   "metadata": {},
   "outputs": [],
   "source": [
    "# Load the GTEx gene annotation file\n",
    "anno = pd.read_csv(\"../data/GTEx_gene_names.txt\", delimiter=\"\\t\")\n",
    "\n",
    "# Column 2: Summary of the number of genes in the community\n",
    "print(sign.iloc[:, 1].describe())  # Summarizing the gene count per community\n",
    "\n",
    "# Extract genes from the third column\n",
    "allgenes = []\n",
    "for i in range(len(fil_clust)):\n",
    "    genes_in_com = fil_clust.iloc[i, 2]\n",
    "    genes_in_com = genes_in_com.split(\" \")  # Splitting by space\n",
    "    allgenes.extend(genes_in_com)\n",
    "\n",
    "allgenes = list(map(lambda x: x[:15], allgenes))  # Restricting to 15 characters\n",
    "print(len(allgenes))  # Total genes\n",
    "print(len(set(allgenes)))  # Unique genes\n",
    "\n",
    "# Subset the annotation data for the genes in allgenes\n",
    "anno_sub = anno[anno.iloc[:, 1].isin(allgenes)]\n",
    "background = set(anno.iloc[:, 0])  # Using all genes as the background"
   ]
  },
  {
   "cell_type": "code",
   "execution_count": null,
   "metadata": {},
   "outputs": [],
   "source": [
    "# get go annotation\n",
    "# Connect to the Ensembl human dataset using BioMart\n",
    "dataset = Dataset(name='hsapiens_gene_ensembl', \n",
    "                  host='http://www.ensembl.org')\n",
    "\n",
    "# Query BioMart for GO terms\n",
    "gene_go_df = dataset.query(attributes=['ensembl_gene_id', 'go_id', 'hgnc_symbol'])\n",
    "\n",
    "# filter based on your list of genes \n",
    "gene_go_df = gene_go_df[gene_go_df['HGNC symbol'].isin(allgenes)]\n",
    "\n",
    "# remove any NAs\n",
    "gene_go_df_clean = gene_go_df.dropna(subset=['GO term accession'])\n",
    "\n",
    "print(gene_go_df_clean.head())  # Show the gene-to-GO mappings\n",
    "\n",
    "# Convert DataFrame to a dictionary {gene_id: set([go_id1, go_id2, ...])}\n",
    "gene_to_go_dict = gene_go_df_clean.groupby('Gene stable ID')['GO term accession'].apply(set).to_dict()\n"
   ]
  },
  {
   "cell_type": "code",
   "execution_count": null,
   "metadata": {},
   "outputs": [],
   "source": [
    "# run go enrichment\n",
    "godag = obo_parser.GODag(\"../data/go-basic.obo\") \n",
    "\n",
    "goea = GOEnrichmentStudy(\n",
    "        background, \n",
    "        gene_to_go_dict,  # Provide gene-to-GO mappings\n",
    "        godag, \n",
    "        propagate_counts=True,\n",
    "        methods=[\"bonferroni\",\"fdr_bh\"]\n",
    "    )\n",
    "    \n",
    "goea_results = goea.run_study(study=gene_go_df_clean['Gene stable ID'])"
   ]
  },
  {
   "cell_type": "markdown",
   "metadata": {},
   "source": [
    "# Comparing hierarchical clustering on community scores vs pathway scores\n",
    "SAMBAR already outputs some clustering, so here just plotting heatmaps with dendograms."
   ]
  },
  {
   "cell_type": "code",
   "execution_count": null,
   "metadata": {},
   "outputs": [],
   "source": [
    "# read in clusters\n",
    "comm_clust = pd.read_csv(\"clustergroups_comm.csv\", delimiter=\",\")\n",
    "path_clust = pd.read_csv(\"clustergroups_path.csv\", delimiter=\",\")\n"
   ]
  },
  {
   "cell_type": "code",
   "execution_count": null,
   "metadata": {},
   "outputs": [],
   "source": [
    "# plot\n",
    "sns.clustermap(path_clust)"
   ]
  }
 ],
 "metadata": {
  "kernelspec": {
   "display_name": "eland",
   "language": "python",
   "name": "python3"
  },
  "language_info": {
   "codemirror_mode": {
    "name": "ipython",
    "version": 3
   },
   "file_extension": ".py",
   "mimetype": "text/x-python",
   "name": "python",
   "nbconvert_exporter": "python",
   "pygments_lexer": "ipython3",
   "version": "3.10.14"
  }
 },
 "nbformat": 4,
 "nbformat_minor": 2
}
